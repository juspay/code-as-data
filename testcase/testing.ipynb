{
 "cells": [
  {
   "cell_type": "code",
   "execution_count": null,
   "metadata": {},
   "outputs": [],
   "source": [
    "from core import *\n",
    "\n",
    "sys.path.append(\"/Users/sakthi.n/Documents/Opensource/code-as-data/\")\n",
    "\n",
    "fdep_path = \"/Users/sakthi.n/Downloads/tmp\"\n",
    "G = get_graph(fdep_path)"
   ]
  },
  {
   "cell_type": "code",
   "execution_count": null,
   "metadata": {},
   "outputs": [],
   "source": [
    "import pickle\n",
    "from core import *\n",
    "\n",
    "sys.path.append(\"/Users/sakthi.n/Documents/Opensource/code-as-data/\")\n",
    "with open('test.gpickle', 'rb') as f:\n",
    "    g = pickle.load(f)"
   ]
  },
  {
   "cell_type": "code",
   "execution_count": null,
   "metadata": {},
   "outputs": [],
   "source": [
    "path, path_str = get_path_str(g, \"Euler.API.Txns.Endpoints.TranspiledTxns:refundByTxnId\",\"Product.OLTP.Refund.Validation:makeRefund\")"
   ]
  },
  {
   "cell_type": "code",
   "execution_count": null,
   "metadata": {},
   "outputs": [],
   "source": [
    "print(path)"
   ]
  },
  {
   "cell_type": "code",
   "execution_count": null,
   "metadata": {},
   "outputs": [],
   "source": [
    "root = \"Euler.API.Txns.Endpoints.TranspiledTxns:refundByTxnId\"\n",
    "des = \"Product.OLTP.Refund.Validation:makeRefund\"\n",
    "\n",
    "g = get_subgraph(g, root)\n",
    "\n",
    "print(\"cnt: \",len(g.nodes()))\n",
    "for node in g.nodes():\n",
    "    print(node)"
   ]
  },
  {
   "cell_type": "code",
   "execution_count": null,
   "metadata": {},
   "outputs": [],
   "source": [
    "for nod in g.nodes():\n",
    "    if g.has_edge(nod,nod):\n",
    "        g.remove_edge(nod,nod)\n",
    "    \n",
    "cycles = list(nx.simple_cycles(g))\n",
    "print(f\"❌ Found {len(cycles)} cycle(s)\")\n",
    "cnt = 0\n",
    "for cycle in cycles:\n",
    "    first = cycle[0]\n",
    "    last = cycle[-1] \n",
    "    if g.has_edge(last,first):\n",
    "        g.remove_edge(last,first)"
   ]
  },
  {
   "cell_type": "code",
   "execution_count": null,
   "metadata": {},
   "outputs": [],
   "source": [
    "ls = get_topo_order(g)\n",
    "\n",
    "\n",
    "print(len(ls))\n",
    "for (node,lvl) in ls:\n",
    "    print(lvl, node)    "
   ]
  },
  {
   "cell_type": "code",
   "execution_count": null,
   "metadata": {},
   "outputs": [],
   "source": [
    "mp = dict() \n",
    "for (v, k) in ls:\n",
    "    if mp.get(k,None):\n",
    "        mp[k].append(v)\n",
    "    else:\n",
    "        mp[k] = [v]\n",
    "\n",
    "for i in range(0,51):\n",
    "    print(len(mp[i]))"
   ]
  },
  {
   "cell_type": "code",
   "execution_count": null,
   "metadata": {},
   "outputs": [],
   "source": [
    "get_visualize(g)"
   ]
  },
  {
   "cell_type": "code",
   "execution_count": null,
   "metadata": {},
   "outputs": [],
   "source": [
    "print(\"Path len:\",len(path))"
   ]
  },
  {
   "cell_type": "code",
   "execution_count": null,
   "metadata": {},
   "outputs": [],
   "source": [
    "g = process_graph_parallel(g, response_schema=DetailedMetaData)"
   ]
  },
  {
   "cell_type": "code",
   "execution_count": null,
   "metadata": {},
   "outputs": [],
   "source": [
    "g.nodes[root]"
   ]
  },
  {
   "cell_type": "code",
   "execution_count": null,
   "metadata": {},
   "outputs": [],
   "source": [
    "import json \n",
    "from testcase.llm import call_gemini\n",
    "\n",
    "path,path_str = get_path_str(g, root, des)\n",
    "coreMetaData = \"\"\n",
    "for idx,node in enumerate(path): \n",
    "    if idx+1 == len(path):\n",
    "       break \n",
    "\n",
    "    (_ ,metainfo) = all_child_expectone(g, node, path[idx+1])\n",
    "\n",
    "    prompt = summarize_prompt.format(current_function=node,next_function=path[idx+1],metainfo=metainfo)\n",
    "    result = call_gemini(user_prompt=prompt,response_format=\"application/json\",response_schema=MetaData)\n",
    "    dct = json.loads(result)\n",
    "\n",
    "    coreMetaData += f\"FunctionName: {node.split(\":\")[-1]}\\nshortsummary: {dct[\"behavior_summary\"]}\\npreconditions: \\n{\"\\n\".join(dct[\"preconditions\"])}\\nposconditions: \\n{\"\\n\".join(dct[\"postconditions\"])}\\nsideeffects: \\n{\"\\n\".join(dct[\"side_effects\"])}\\n\"\n",
    "    state_deps = dct.get(\"state_dependencies\",None)\n",
    "    if state_deps:\n",
    "        coreMetaData += f\"DB: {state_deps.get(\"db\",\"None\")}\\nEnv: {state_deps.get(\"env\",\"None\")}\\nRedis: {state_deps.get(\"redis\",\"None\")}\\n\\n\"\n",
    "    else:\n",
    "        coreMetaData += \"DB: None\\nEnv: None\\nRedis: None\\n\\n\"\n",
    "\n",
    "    print(coreMetaData)\n"
   ]
  },
  {
   "cell_type": "code",
   "execution_count": null,
   "metadata": {},
   "outputs": [],
   "source": [
    "_,info = all_childs(g, des)\n",
    "\n",
    "prompt = final_prompt.format(function_name=des,metainfo=coreMetaData,currmetainfo=info,api_path=path_str)\n",
    "\n",
    "res = call_gemini(user_prompt=prompt,response_format=\"text/plain\")\n",
    "print(res)"
   ]
  },
  {
   "cell_type": "code",
   "execution_count": null,
   "metadata": {},
   "outputs": [],
   "source": []
  }
 ],
 "metadata": {
  "kernelspec": {
   "display_name": "venv",
   "language": "python",
   "name": "python3"
  },
  "language_info": {
   "codemirror_mode": {
    "name": "ipython",
    "version": 3
   },
   "file_extension": ".py",
   "mimetype": "text/x-python",
   "name": "python",
   "nbconvert_exporter": "python",
   "pygments_lexer": "ipython3",
   "version": "3.12.9"
  }
 },
 "nbformat": 4,
 "nbformat_minor": 2
}

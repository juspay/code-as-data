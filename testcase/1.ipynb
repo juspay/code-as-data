{
 "cells": [
  {
   "cell_type": "code",
   "execution_count": 1,
   "metadata": {},
   "outputs": [
    {
     "name": "stdout",
     "output_type": "stream",
     "text": [
      "Found 65 function files to process\n",
      "Progress: 3/65 files processed (90.6 files/sec, ~0.7s remaining)\n",
      "Progress: 6/65 files processed (42.7 files/sec, ~1.4s remaining)\n",
      "Progress: 9/65 files processed (34.8 files/sec, ~1.6s remaining)\n",
      "Progress: 12/65 files processed (28.6 files/sec, ~1.9s remaining)\n",
      "Progress: 15/65 files processed (33.0 files/sec, ~1.5s remaining)\n",
      "Progress: 18/65 files processed (37.6 files/sec, ~1.2s remaining)\n",
      "Progress: 21/65 files processed (42.3 files/sec, ~1.0s remaining)\n",
      "Progress: 24/65 files processed (46.0 files/sec, ~0.9s remaining)\n",
      "Progress: 27/65 files processed (48.2 files/sec, ~0.8s remaining)\n",
      "Progress: 30/65 files processed (48.1 files/sec, ~0.7s remaining)\n",
      "Progress: 33/65 files processed (42.1 files/sec, ~0.8s remaining)\n",
      "Progress: 36/65 files processed (43.6 files/sec, ~0.7s remaining)\n",
      "Progress: 39/65 files processed (43.8 files/sec, ~0.6s remaining)\n",
      "Progress: 42/65 files processed (46.7 files/sec, ~0.5s remaining)\n",
      "Progress: 45/65 files processed (49.4 files/sec, ~0.4s remaining)\n",
      "Progress: 48/65 files processed (50.1 files/sec, ~0.3s remaining)\n",
      "Progress: 51/65 files processed (51.5 files/sec, ~0.3s remaining)\n",
      "Progress: 54/65 files processed (47.3 files/sec, ~0.2s remaining)\n",
      "Progress: 57/65 files processed (48.9 files/sec, ~0.2s remaining)\n",
      "Progress: 60/65 files processed (50.5 files/sec, ~0.1s remaining)\n",
      "Progress: 63/65 files processed (52.2 files/sec, ~0.0s remaining)\n",
      "Progress: 65/65 files processed (53.4 files/sec, ~0.0s remaining)\n",
      "Completed processing 65 modules in 1.34 seconds (48.6 files/sec)\n",
      "Starting class parsing...\n",
      "Starting import parsing...\n",
      "Starting type parsing...\n",
      "Processing instances...\n"
     ]
    }
   ],
   "source": [
    "from core import *\n",
    "\n",
    "sys.path.append(\"/Users/sakthi.n/Documents/Opensource/code-as-data/\")\n",
    "\n",
    "fdep_path = \"/Users/sakthi.n/Documents/Work/codegen/tmp\"\n",
    "G = get_graph(fdep_path)"
   ]
  },
  {
   "cell_type": "code",
   "execution_count": 46,
   "metadata": {},
   "outputs": [],
   "source": [
    "from typing import Optional, List, Dict\n",
    "from pydantic import BaseModel\n",
    "\n",
    "\n",
    "class StateDependencies(BaseModel):\n",
    "    db: Optional[List[str]]\n",
    "    env: Optional[List[str]]                          \n",
    "    redis: Optional[List[str]]                      \n",
    "\n",
    "class MetaData(BaseModel):\n",
    "    function_name: str\n",
    "    behavior_summary: str\n",
    "    preconditions: List[str]\n",
    "    postconditions: List[str]\n",
    "    state_dependencies: Optional[StateDependencies]\n",
    "    side_effects: List[str]\n",
    "\n",
    "class ChildCallRelation(BaseModel):\n",
    "    child: str\n",
    "    condition: str\n",
    "\n",
    "class DetailedMetaData(BaseModel):\n",
    "    function_name: str\n",
    "    behavior_summary: str\n",
    "    preconditions: List[str]\n",
    "    postconditions: List[str]\n",
    "    state_dependencies: Optional[StateDependencies]\n",
    "    side_effects: List[str]\n",
    "    child_call_relationship: List[ChildCallRelation]"
   ]
  },
  {
   "cell_type": "code",
   "execution_count": 14,
   "metadata": {},
   "outputs": [
    {
     "name": "stdout",
     "output_type": "stream",
     "text": [
      "cnt:  15\n",
      "App.Routes:generateGetAccountDetails\n",
      "Database.GptResponse:createGptResponse\n",
      "Database.IntegrationTracker:findOneIntegrationTrackerDomainbyId\n",
      "Flows.GenInstance:getAccountDetailsFunc\n",
      "Common:toTitleCaseText\n",
      "Database.GptResponse.Types:fromGtpResponse\n",
      "App.Utils:getRandomUUID\n",
      "App.Utils:getCurrTime\n",
      "Database.GptResponse.Types:toGtpResponse\n",
      "Database.IntegrationTracker.Types:fromIntegrationTracker\n",
      "Database.IntegrationTracker:findOneIntegrationTrackerbyId\n",
      "Common:toTitleCase\n",
      "Database.GptResponse.Types:parseMetadata\n",
      "Database.GptResponse.Types:parseGptResult\n",
      "App.Utils:decodeJSON\n"
     ]
    }
   ],
   "source": [
    "root = \"App.Routes:generateGetAccountDetails\"\n",
    "g = get_subgraph(G, root)\n",
    "\n",
    "print(\"cnt: \",len(g.nodes()))\n",
    "for node in g.nodes():\n",
    "    print(node)"
   ]
  },
  {
   "cell_type": "code",
   "execution_count": 15,
   "metadata": {},
   "outputs": [
    {
     "name": "stdout",
     "output_type": "stream",
     "text": [
      "✅ Done: Flows.GenInstance:getAccountDetailsFunc\n",
      "✅ Done: App.Utils:getRandomUUID\n",
      "✅ Done: App.Utils:getCurrTime\n",
      "✅ Done: Database.GptResponse.Types:toGtpResponse\n",
      "✅ Done: Database.IntegrationTracker:findOneIntegrationTrackerbyId\n",
      "✅ Done: Common:toTitleCase\n",
      "✅ Done: App.Utils:decodeJSON\n",
      "✅ Done: Common:toTitleCaseText\n",
      "✅ Done: Database.IntegrationTracker.Types:fromIntegrationTracker\n",
      "✅ Done: Database.GptResponse.Types:parseMetadata\n",
      "✅ Done: Database.GptResponse.Types:parseGptResult\n",
      "✅ Done: Database.IntegrationTracker:findOneIntegrationTrackerDomainbyId\n",
      "✅ Done: Database.GptResponse.Types:fromGtpResponse\n",
      "✅ Done: Database.GptResponse:createGptResponse\n",
      "✅ Done: App.Routes:generateGetAccountDetails\n"
     ]
    }
   ],
   "source": [
    "g = process_graph(g, response_schema=DetailedMetaData)"
   ]
  },
  {
   "cell_type": "code",
   "execution_count": 16,
   "metadata": {},
   "outputs": [
    {
     "name": "stdout",
     "output_type": "stream",
     "text": [
      "graph.html\n"
     ]
    }
   ],
   "source": [
    "from pyvis.network import Network\n",
    "\n",
    "def get_visualize(g):\n",
    "    net = Network(height=\"1000px\", width=\"100%\", bgcolor=\"#222222\", font_color=\"white\", directed=True)\n",
    "\n",
    "    # Add all nodes\n",
    "    for node in g.nodes():\n",
    "        net.add_node(node, label=node)\n",
    "\n",
    "    # Add edges with 'condition' as label (if present)\n",
    "    for source, target in g.edges():\n",
    "        condition = g[source][target].get(\"condition\", \"\")\n",
    "        label = f\"{condition}\" if condition else \"\"\n",
    "        net.add_edge(source, target, label=label)\n",
    "\n",
    "    net.show(\"graph.html\", notebook=False)\n",
    "\n",
    "get_visualize(g)"
   ]
  },
  {
   "cell_type": "code",
   "execution_count": 26,
   "metadata": {},
   "outputs": [
    {
     "name": "stdout",
     "output_type": "stream",
     "text": [
      "FunctionName: Database.GptResponse.Types:fromGtpResponse\n",
      "Short Summary: Transforms a raw GPT response data structure into a domain-specific `GptResponseDomain` object. It delegates the parsing of the JSON-encoded `gptOutput` and `metadata` fields to child functions and provides a default value for the `typeOfChange` field if it is not present.\n",
      "Preconditions:\n",
      "An input record `gptResp` must be provided.\n",
      "The `_gptOutput` field of the input is expected to be a text value representing JSON, as required by `parseGptResult`.\n",
      "The `_metadata` field of the input is expected to be a text value representing JSON parsable into a `Metadata` object, as required by `parseMetadata`.\n",
      "Postconditions:\n",
      "A `GptResponseDomain` record is returned.\n",
      "The `gptOutput` field will contain a parsed `Aeson.Value`, defaulting to `Aeson.Null` on parsing failure.\n",
      "The `metadata` field will contain a parsed `Metadata` object, defaulting to an empty `Metadata` object on parsing failure.\n",
      "The `typeOfChange` field defaults to `Types.Generated` if the corresponding input field is null.\n",
      "All other fields are directly mapped from the input record.\n",
      "Side Effects:\n",
      "No side-effects.\n",
      "State Dependencies:\n",
      "  DB: None\n",
      "  Env: None\n",
      "  Redis: None\n",
      "FunctionName: App.Utils:getRandomUUID\n",
      "Short Summary: Generates a new, random Version 4 UUID and returns it as a Text string. This involves an I/O action to access the system's source of randomness.\n",
      "Preconditions:\n",
      "The underlying operating system must be able to provide a source of randomness for UUID generation.\n",
      "Postconditions:\n",
      "A new, valid, version 4 UUID is returned as a Text string.\n",
      "Side Effects:\n",
      "Reads from the operating system's source of entropy.\n",
      "State Dependencies:\n",
      "  DB: None\n",
      "  Env: None\n",
      "  Redis: None\n",
      "FunctionName: App.Utils:getCurrTime\n",
      "Short Summary: Gets the current system time in UTC and converts it to a LocalTime object representing Indian Standard Time (IST).\n",
      "Preconditions:\n",
      "The underlying operating system must be able to provide the current system time via the `getCurrentTime` IO action.\n",
      "Postconditions:\n",
      "Returns a `LocalTime` value corresponding to the current time in the IST timezone (+05:30).\n",
      "Side Effects:\n",
      "Reads the current time from the system clock, which is an I/O operation.\n",
      "State Dependencies:\n",
      "  DB: None\n",
      "  Env: None\n",
      "  Redis: None\n",
      "FunctionName: Database.GptResponse.Types:toGtpResponse\n",
      "Short Summary: Transforms an input data structure into a `GptResponse` record, mapping corresponding fields and JSON-encoding the `gptOutput` and `metadata` fields.\n",
      "Preconditions:\n",
      "Input `gptResp` must be a record containing the fields: id, documentDataId, category, typeOfChange, gptOutput, metadata, dateCreated, lastModified, sequenceId, and accuracyMetric.\n",
      "The `gptOutput` and `metadata` fields of the input `gptResp` must be values that can be serialized to JSON by `Utils.encodeJSON`.\n",
      "Postconditions:\n",
      "Returns a `GptResponse` record.\n",
      "The `_gptOutput` field of the returned record is a JSON-encoded string representation of the input's `gptOutput` field.\n",
      "The `_metadata` field of the returned record is a JSON-encoded string representation of the input's `metadata` field.\n",
      "The `_typeOfChange` field is wrapped in a `Just` constructor.\n",
      "Side Effects:\n",
      "No side-effects.\n",
      "State Dependencies:\n",
      "  DB: None\n",
      "  Env: None\n",
      "  Redis: None\n",
      "\n",
      "\n",
      "\n",
      "None\n"
     ]
    }
   ],
   "source": [
    "node = \"Database.GptResponse:createGptResponse\"\n",
    "\n",
    "for c in g.successors(node):\n",
    "    print(get_metainfo(g, c))\n",
    "\n",
    "metainfo = get_child_metainfo(G, node)\n",
    "print(metainfo)\n",
    "code = g.nodes[node].get(\"code_string\",\"\")\n",
    "# _, s = process_node(node=node,user_prompt=parent_promptv2,code=code,metainfo=metainfo,response_schema=DetailedMetaData)\n",
    "# print(s)"
   ]
  },
  {
   "cell_type": "code",
   "execution_count": 23,
   "metadata": {},
   "outputs": [
    {
     "data": {
      "text/plain": [
       "{'label': 'createGptResponse',\n",
       " 'node_type': 'Function',\n",
       " 'function_signature': 'Text\\n-> Category\\n-> Value\\n-> ChangeType\\n-> Maybe Int\\n-> Flow GptResponseDomain',\n",
       " 'code_string': 'createGptResponse\\n  documentDataId\\n  category\\n  gptOutput\\n  typeOfChange\\n  sequenceId\\n  = do currTime <- Utils.getCurrTime\\n       dbConf <- getEulerDbConf @GptResponseT\\n       uuid <- Utils.getRandomUUID\\n       let gptResponse\\n             = toGtpResponse\\n                 $ GptResponseDomain\\n                     {id = uuid, documentDataId = documentDataId, category = category,\\n                      typeOfChange = typeOfChange, gptOutput = gptOutput,\\n                      metadata = Metadata HM.empty, dateCreated = currTime,\\n                      lastModified = currTime, sequenceId = fromMaybe 0 sequenceId,\\n                      accuracyMetric = Nothing}\\n       eResult <- DB.createRowReturning dbConf meshConfig gptResponse\\n       case eResult of\\n         Right row -> pure $ fromGtpResponse $ row\\n         Left err\\n           -> L.throwException\\n                $ S.err500 {S.errBody = \"Error with database, error: \" <> show err}',\n",
       " 'src_loc': 'src/Database/GptResponse.hs:25:1-17',\n",
       " 'line_number_start': 25,\n",
       " 'line_number_end': 44,\n",
       " 'out': 0,\n",
       " 'function_name': 'createGptResponse',\n",
       " 'behavior_summary': \"Constructs a GPT response record by generating a UUID and a timestamp, combines it with input data, and persists it to the database using 'DB.createRowReturning'. On success, it returns the newly created record; otherwise, it throws a 500 server error.\",\n",
       " 'preconditions': [\"Valid 'documentDataId', 'category', 'gptOutput', 'typeOfChange', and 'sequenceId' must be provided.\",\n",
       "  \"The 'gptOutput' value must be serializable to JSON.\",\n",
       "  \"Database connection configuration must be retrievable via 'getEulerDbConf'.\",\n",
       "  'The underlying OS must provide a source of randomness for UUID generation and access to the system clock.'],\n",
       " 'postconditions': [\"On success, a new record is created in the 'gpt_response' table and a 'GptResponseDomain' object representing this new record is returned.\",\n",
       "  'On database failure, an HTTP 500 error is thrown and no record is created.'],\n",
       " 'state_dependencies': {'db': ['gpt_response'],\n",
       "  'env': ['EULER_DB_CONFIG'],\n",
       "  'redis': None},\n",
       " 'side_effects': [\"Inserts a new row into the 'gpt_response' database table.\",\n",
       "  'Reads the current time from the system clock.',\n",
       "  \"Reads from the operating system's source of entropy for UUID generation.\",\n",
       "  'Throws an HTTP 500 exception if the database operation fails.'],\n",
       " 'child_call_relationship': [{'child': 'App.Utils:getCurrTime',\n",
       "   'condition': 'Always called.'},\n",
       "  {'child': 'getEulerDbConf', 'condition': 'Always called.'},\n",
       "  {'child': 'App.Utils:getRandomUUID', 'condition': 'Always called.'},\n",
       "  {'child': 'Database.GptResponse.Types:toGtpResponse',\n",
       "   'condition': 'Always called.'},\n",
       "  {'child': 'DB.createRowReturning', 'condition': 'Always called.'},\n",
       "  {'child': 'Database.GptResponse.Types:fromGtpResponse',\n",
       "   'condition': \"Called if 'DB.createRowReturning' returns a 'Right' value (success).\"},\n",
       "  {'child': 'L.throwException',\n",
       "   'condition': \"Called if 'DB.createRowReturning' returns a 'Left' value (error).\"}]}"
      ]
     },
     "execution_count": 23,
     "metadata": {},
     "output_type": "execute_result"
    }
   ],
   "source": [
    "g.nodes[node]"
   ]
  },
  {
   "cell_type": "code",
   "execution_count": null,
   "metadata": {},
   "outputs": [],
   "source": []
  }
 ],
 "metadata": {
  "kernelspec": {
   "display_name": "venv",
   "language": "python",
   "name": "python3"
  },
  "language_info": {
   "codemirror_mode": {
    "name": "ipython",
    "version": 3
   },
   "file_extension": ".py",
   "mimetype": "text/x-python",
   "name": "python",
   "nbconvert_exporter": "python",
   "pygments_lexer": "ipython3",
   "version": "3.12.9"
  }
 },
 "nbformat": 4,
 "nbformat_minor": 2
}
